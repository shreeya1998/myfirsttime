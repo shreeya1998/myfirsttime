{
 "cells": [
  {
   "cell_type": "code",
   "execution_count": 1,
   "metadata": {
    "colab": {
     "base_uri": "https://localhost:8080/",
     "height": 34
    },
    "colab_type": "code",
    "id": "LwGImsitTVhW",
    "outputId": "f4376323-9f8c-4f31-e36c-0bfd79038aea"
   },
   "outputs": [
    {
     "name": "stdout",
     "output_type": "stream",
     "text": [
      "Hello world\n"
     ]
    }
   ],
   "source": [
    "print(\"Hello world\")"
   ]
  },
  {
   "cell_type": "code",
   "execution_count": 2,
   "metadata": {
    "colab": {
     "base_uri": "https://localhost:8080/",
     "height": 34
    },
    "colab_type": "code",
    "id": "S31H9nZrUNsA",
    "outputId": "de78b44f-4d48-4b47-e713-40501d3c5ddc"
   },
   "outputs": [
    {
     "data": {
      "text/plain": [
       "2"
      ]
     },
     "execution_count": 2,
     "metadata": {
      "tags": []
     },
     "output_type": "execute_result"
    }
   ],
   "source": [
    "1+1"
   ]
  },
  {
   "cell_type": "code",
   "execution_count": 3,
   "metadata": {
    "colab": {
     "base_uri": "https://localhost:8080/",
     "height": 34
    },
    "colab_type": "code",
    "id": "qIhsJFuxWHTU",
    "outputId": "a96f304b-9e09-4273-c415-68d04c2505a7"
   },
   "outputs": [
    {
     "name": "stdout",
     "output_type": "stream",
     "text": [
      "Shreeya\n"
     ]
    }
   ],
   "source": [
    "print(\"Shreeya\")"
   ]
  },
  {
   "cell_type": "code",
   "execution_count": 4,
   "metadata": {
    "colab": {
     "base_uri": "https://localhost:8080/",
     "height": 34
    },
    "colab_type": "code",
    "id": "Kl6UTuvKWQ81",
    "outputId": "f3fc4052-0676-4e77-84b0-fc743b75c8f8"
   },
   "outputs": [
    {
     "data": {
      "text/plain": [
       "16"
      ]
     },
     "execution_count": 4,
     "metadata": {
      "tags": []
     },
     "output_type": "execute_result"
    }
   ],
   "source": [
    "2**4"
   ]
  },
  {
   "cell_type": "code",
   "execution_count": 5,
   "metadata": {
    "colab": {
     "base_uri": "https://localhost:8080/",
     "height": 34
    },
    "colab_type": "code",
    "id": "sU3D4_5oWawa",
    "outputId": "d9b08696-aca5-459d-92ff-4a01b0ac50d4"
   },
   "outputs": [
    {
     "data": {
      "text/plain": [
       "0"
      ]
     },
     "execution_count": 5,
     "metadata": {
      "tags": []
     },
     "output_type": "execute_result"
    }
   ],
   "source": [
    "4%2"
   ]
  },
  {
   "cell_type": "code",
   "execution_count": 6,
   "metadata": {
    "colab": {
     "base_uri": "https://localhost:8080/",
     "height": 34
    },
    "colab_type": "code",
    "id": "WjTX0YwrWfSl",
    "outputId": "1105995f-e333-4af2-91eb-b54123429559"
   },
   "outputs": [
    {
     "data": {
      "text/plain": [
       "50"
      ]
     },
     "execution_count": 6,
     "metadata": {
      "tags": []
     },
     "output_type": "execute_result"
    }
   ],
   "source": [
    "(2+3)*(5+5)"
   ]
  },
  {
   "cell_type": "code",
   "execution_count": 0,
   "metadata": {
    "colab": {},
    "colab_type": "code",
    "id": "ipTwyCpmXSHr"
   },
   "outputs": [],
   "source": [
    "#this is a variable assignment\n",
    "MITE=100"
   ]
  },
  {
   "cell_type": "code",
   "execution_count": 8,
   "metadata": {
    "colab": {
     "base_uri": "https://localhost:8080/",
     "height": 34
    },
    "colab_type": "code",
    "id": "6bHLkdmAX4YF",
    "outputId": "3aef4b81-f226-439b-ce43-42036747c454"
   },
   "outputs": [
    {
     "data": {
      "text/plain": [
       "100"
      ]
     },
     "execution_count": 8,
     "metadata": {
      "tags": []
     },
     "output_type": "execute_result"
    }
   ],
   "source": [
    "MITE"
   ]
  },
  {
   "cell_type": "code",
   "execution_count": 9,
   "metadata": {
    "colab": {
     "base_uri": "https://localhost:8080/",
     "height": 34
    },
    "colab_type": "code",
    "id": "e-sQdcmyX6JI",
    "outputId": "1b5ea89c-0af3-4483-aa62-bbc122dcc491"
   },
   "outputs": [
    {
     "name": "stdout",
     "output_type": "stream",
     "text": [
      "The value of MITE variable is 100\n"
     ]
    }
   ],
   "source": [
    "print(\"The value of MITE variable is\",MITE)"
   ]
  },
  {
   "cell_type": "code",
   "execution_count": 10,
   "metadata": {
    "colab": {
     "base_uri": "https://localhost:8080/",
     "height": 34
    },
    "colab_type": "code",
    "id": "RBED6ksjYJ8G",
    "outputId": "3dc03991-1fcd-4078-9b55-bbba121d05c9"
   },
   "outputs": [
    {
     "data": {
      "text/plain": [
       "'Mangalore is nice place'"
      ]
     },
     "execution_count": 10,
     "metadata": {
      "tags": []
     },
     "output_type": "execute_result"
    }
   ],
   "source": [
    "'Mangalore is nice place'"
   ]
  },
  {
   "cell_type": "code",
   "execution_count": 0,
   "metadata": {
    "colab": {},
    "colab_type": "code",
    "id": "csx7fhLXZJyr"
   },
   "outputs": [],
   "source": []
  },
  {
   "cell_type": "code",
   "execution_count": 11,
   "metadata": {
    "colab": {
     "base_uri": "https://localhost:8080/",
     "height": 34
    },
    "colab_type": "code",
    "id": "WK2iJBmvYiOE",
    "outputId": "3a547715-4e93-44da-dfbe-8b12a7ca210c"
   },
   "outputs": [
    {
     "data": {
      "text/plain": [
       "'mangalore is great place to live'"
      ]
     },
     "execution_count": 11,
     "metadata": {
      "tags": []
     },
     "output_type": "execute_result"
    }
   ],
   "source": [
    "\"mangalore is great place to live\""
   ]
  },
  {
   "cell_type": "code",
   "execution_count": 15,
   "metadata": {
    "colab": {
     "base_uri": "https://localhost:8080/",
     "height": 34
    },
    "colab_type": "code",
    "id": "BxLPmnq5Yrcl",
    "outputId": "dc5fc988-cfe0-45bb-ff65-abd4cc411279"
   },
   "outputs": [
    {
     "data": {
      "text/plain": [
       "'I can wrap lots of quotes into this string'"
      ]
     },
     "execution_count": 15,
     "metadata": {
      "tags": []
     },
     "output_type": "execute_result"
    }
   ],
   "source": [
    "\"I can wrap lots of quotes into this string\""
   ]
  },
  {
   "cell_type": "code",
   "execution_count": 16,
   "metadata": {
    "colab": {
     "base_uri": "https://localhost:8080/",
     "height": 34
    },
    "colab_type": "code",
    "id": "2EtYV7QzY2n9",
    "outputId": "0f3b074e-3d5f-4e05-8fc7-b88053ac0327"
   },
   "outputs": [
    {
     "name": "stdout",
     "output_type": "stream",
     "text": [
      "23 mite is best place to study\n"
     ]
    }
   ],
   "source": [
    "number=22\n",
    "name=\"mite\"\n",
    "print(number+1,name,\"is best place to study\")"
   ]
  },
  {
   "cell_type": "code",
   "execution_count": 17,
   "metadata": {
    "colab": {
     "base_uri": "https://localhost:8080/",
     "height": 34
    },
    "colab_type": "code",
    "id": "nTO6GN6DZHWU",
    "outputId": "395c3b89-c379-4ef3-88b0-ea4a58353aff"
   },
   "outputs": [
    {
     "name": "stdout",
     "output_type": "stream",
     "text": [
      "My number is 22 and my name is mite\n"
     ]
    }
   ],
   "source": [
    "print(\"My number is {one} and my name is {two}\"\n",
    "     .format(one=number,two=name))"
   ]
  },
  {
   "cell_type": "code",
   "execution_count": 18,
   "metadata": {
    "colab": {
     "base_uri": "https://localhost:8080/",
     "height": 67
    },
    "colab_type": "code",
    "id": "ajEO2ZnHaieD",
    "outputId": "2e07bac2-6ea3-4b1b-a1cf-64850633ab15"
   },
   "outputs": [
    {
     "name": "stdout",
     "output_type": "stream",
     "text": [
      "Enter the first number:10\n",
      "Enter the second number:20\n",
      "The product is  200\n"
     ]
    }
   ],
   "source": [
    "x=input(\"Enter the first number:\")\n",
    "y=input(\"Enter the second number:\")\n",
    "i=int(x)\n",
    "j=int(y)\n",
    "print(\"The product is \",i*j)"
   ]
  },
  {
   "cell_type": "code",
   "execution_count": 19,
   "metadata": {
    "colab": {
     "base_uri": "https://localhost:8080/",
     "height": 67
    },
    "colab_type": "code",
    "id": "tiw5B_OWbK5h",
    "outputId": "9a5734f2-26f6-4e57-babb-ee206e589864"
   },
   "outputs": [
    {
     "name": "stdout",
     "output_type": "stream",
     "text": [
      "Enter the first number:10\n",
      "Enter the second number:20\n",
      "The product is  200.0\n"
     ]
    }
   ],
   "source": [
    "x=input(\"Enter the first number:\")\n",
    "y=input(\"Enter the second number:\")\n",
    "i=float(x)\n",
    "j=float(y)\n",
    "print(\"The product is \",i*j)"
   ]
  },
  {
   "cell_type": "code",
   "execution_count": 20,
   "metadata": {
    "colab": {
     "base_uri": "https://localhost:8080/",
     "height": 34
    },
    "colab_type": "code",
    "id": "AtyByWq4bVBS",
    "outputId": "f0543831-ef45-4bb9-a0ff-012241f26381"
   },
   "outputs": [
    {
     "data": {
      "text/plain": [
       "bool"
      ]
     },
     "execution_count": 20,
     "metadata": {
      "tags": []
     },
     "output_type": "execute_result"
    }
   ],
   "source": [
    "bool"
   ]
  },
  {
   "cell_type": "code",
   "execution_count": 21,
   "metadata": {
    "colab": {
     "base_uri": "https://localhost:8080/",
     "height": 67
    },
    "colab_type": "code",
    "id": "TfN4xTaqcEX4",
    "outputId": "e1c3f62e-53bd-46b9-cbd2-e0bce4874577"
   },
   "outputs": [
    {
     "name": "stdout",
     "output_type": "stream",
     "text": [
      "Enter the first number:true\n",
      "Enter the second number:false\n",
      "The product is  1\n"
     ]
    }
   ],
   "source": [
    "x=input(\"Enter the first number:\")\n",
    "y=input(\"Enter the second number:\")\n",
    "i=bool(x)\n",
    "j=bool(y)\n",
    "print(\"The product is \",i*j)"
   ]
  },
  {
   "cell_type": "code",
   "execution_count": 24,
   "metadata": {
    "colab": {
     "base_uri": "https://localhost:8080/",
     "height": 134
    },
    "colab_type": "code",
    "id": "QXrU48ETcNP6",
    "outputId": "c9df15b7-0960-45dc-d9ee-f3631c6d31e5"
   },
   "outputs": [
    {
     "name": "stdout",
     "output_type": "stream",
     "text": [
      "Enter employee code:1\n",
      "Enter employee basic salary:1000\n",
      "fresher or nottrue\n",
      "Employee id= 1\n",
      "Employee sal= 1000.0\n",
      "Fresher True\n",
      "Total salary= 1200.0\n"
     ]
    }
   ],
   "source": [
    "empid=int(input(\"Enter employee code:\"))\n",
    "empsal=float(input(\"Enter employee basic salary:\"))\n",
    "f=bool(input(\"fresher or not\"))\n",
    "totalsal=1.2*empsal\n",
    "print(\"Employee id=\",empid)\n",
    "print(\"Employee sal=\",empsal)\n",
    "print(\"Fresher\",f)\n",
    "print(\"Total salary=\",totalsal)"
   ]
  },
  {
   "cell_type": "code",
   "execution_count": 28,
   "metadata": {
    "colab": {
     "base_uri": "https://localhost:8080/",
     "height": 50
    },
    "colab_type": "code",
    "id": "p8ReAJgFds8B",
    "outputId": "6c04a455-221e-43bb-b1a7-8fc9b3cab9be"
   },
   "outputs": [
    {
     "name": "stdout",
     "output_type": "stream",
     "text": [
      "enter 3 float numbers10,20,30\n",
      "Sum is: 60\n"
     ]
    }
   ],
   "source": [
    "a,b,c=[int(x) for x in\n",
    "    input(\"enter 3 float numbers\")\n",
    "    .split(',')]\n",
    "print(\"Sum is:\",a+b+c)"
   ]
  },
  {
   "cell_type": "code",
   "execution_count": 33,
   "metadata": {
    "colab": {
     "base_uri": "https://localhost:8080/",
     "height": 34
    },
    "colab_type": "code",
    "id": "z4Kr_rAcinRA",
    "outputId": "8a96f6b4-a6bf-4508-9766-163ee5147405"
   },
   "outputs": [
    {
     "name": "stdout",
     "output_type": "stream",
     "text": [
      "0.3333333333333333\n"
     ]
    }
   ],
   "source": [
    "x=eval(\"10**2/300\")\n",
    "print(x)"
   ]
  },
  {
   "cell_type": "code",
   "execution_count": 35,
   "metadata": {
    "colab": {
     "base_uri": "https://localhost:8080/",
     "height": 67
    },
    "colab_type": "code",
    "id": "AeSUVSN-jm_m",
    "outputId": "111fdaf6-0090-40b0-fe66-c240a64467ca"
   },
   "outputs": [
    {
     "name": "stdout",
     "output_type": "stream",
     "text": [
      "Hello\n",
      "world\n",
      "Hello\t world\n"
     ]
    }
   ],
   "source": [
    "print(\"Hello\\nworld\")\n",
    "print(\"Hello\\t world\")"
   ]
  },
  {
   "cell_type": "code",
   "execution_count": 36,
   "metadata": {
    "colab": {
     "base_uri": "https://localhost:8080/",
     "height": 34
    },
    "colab_type": "code",
    "id": "UnQeF0PykmoP",
    "outputId": "0c690bbb-5685-4f21-d517-1365f3103674"
   },
   "outputs": [
    {
     "data": {
      "text/plain": [
       "[1, 2, 3]"
      ]
     },
     "execution_count": 36,
     "metadata": {
      "tags": []
     },
     "output_type": "execute_result"
    }
   ],
   "source": [
    "[1,2,3]"
   ]
  },
  {
   "cell_type": "code",
   "execution_count": 37,
   "metadata": {
    "colab": {
     "base_uri": "https://localhost:8080/",
     "height": 34
    },
    "colab_type": "code",
    "id": "QvcfbeeBks-f",
    "outputId": "e562d5f9-4091-4ed9-e953-b69d148e8db0"
   },
   "outputs": [
    {
     "data": {
      "text/plain": [
       "['hey', 1, 2, 3]"
      ]
     },
     "execution_count": 37,
     "metadata": {
      "tags": []
     },
     "output_type": "execute_result"
    }
   ],
   "source": [
    "['hey',1,2,3]"
   ]
  },
  {
   "cell_type": "code",
   "execution_count": 0,
   "metadata": {
    "colab": {},
    "colab_type": "code",
    "id": "S9t0JQvDlITx"
   },
   "outputs": [],
   "source": [
    "my_list=['a','b','c']"
   ]
  },
  {
   "cell_type": "code",
   "execution_count": 0,
   "metadata": {
    "colab": {},
    "colab_type": "code",
    "id": "Yo2O16ERk0RM"
   },
   "outputs": [],
   "source": [
    "my_list.append('d')"
   ]
  },
  {
   "cell_type": "code",
   "execution_count": 41,
   "metadata": {
    "colab": {
     "base_uri": "https://localhost:8080/",
     "height": 34
    },
    "colab_type": "code",
    "id": "WIsOv6XLlFR9",
    "outputId": "bdd07911-a345-4fec-8d33-2f079c72d342"
   },
   "outputs": [
    {
     "name": "stdout",
     "output_type": "stream",
     "text": [
      "['a', 'b', 'c', 'd']\n"
     ]
    }
   ],
   "source": [
    "print(my_list)"
   ]
  },
  {
   "cell_type": "code",
   "execution_count": 42,
   "metadata": {
    "colab": {
     "base_uri": "https://localhost:8080/",
     "height": 34
    },
    "colab_type": "code",
    "id": "x8QXjS06lUH5",
    "outputId": "5cfc0329-c86d-459c-da4f-061830c1b234"
   },
   "outputs": [
    {
     "data": {
      "text/plain": [
       "['b', 'c', 'd']"
      ]
     },
     "execution_count": 42,
     "metadata": {
      "tags": []
     },
     "output_type": "execute_result"
    }
   ],
   "source": [
    "my_list[1:]"
   ]
  },
  {
   "cell_type": "code",
   "execution_count": 48,
   "metadata": {
    "colab": {
     "base_uri": "https://localhost:8080/",
     "height": 34
    },
    "colab_type": "code",
    "id": "OaAMuOt6ledj",
    "outputId": "96eff33a-cc78-45c0-f747-1c5233ebf246"
   },
   "outputs": [
    {
     "data": {
      "text/plain": [
       "['d', 'c', 'b', 'a']"
      ]
     },
     "execution_count": 48,
     "metadata": {
      "tags": []
     },
     "output_type": "execute_result"
    }
   ],
   "source": [
    "my_list[::-1]"
   ]
  },
  {
   "cell_type": "code",
   "execution_count": 0,
   "metadata": {
    "colab": {},
    "colab_type": "code",
    "id": "w-xdxFsHlpIT"
   },
   "outputs": [],
   "source": [
    "my_list='Shreeya'"
   ]
  },
  {
   "cell_type": "code",
   "execution_count": 50,
   "metadata": {
    "colab": {
     "base_uri": "https://localhost:8080/",
     "height": 34
    },
    "colab_type": "code",
    "id": "bl3lTVGJmDYx",
    "outputId": "2afbcd3d-8c91-436e-b6a0-d9445aa2dbb3"
   },
   "outputs": [
    {
     "name": "stdout",
     "output_type": "stream",
     "text": [
      "Shreeya\n"
     ]
    }
   ],
   "source": [
    "print(my_list)"
   ]
  },
  {
   "cell_type": "code",
   "execution_count": 0,
   "metadata": {
    "colab": {},
    "colab_type": "code",
    "id": "oByq4kFtmGTd"
   },
   "outputs": [],
   "source": [
    "nest=[1,2,3,[4,5,['target']]]"
   ]
  },
  {
   "cell_type": "code",
   "execution_count": 52,
   "metadata": {
    "colab": {
     "base_uri": "https://localhost:8080/",
     "height": 34
    },
    "colab_type": "code",
    "id": "0O-2DJA4mlGN",
    "outputId": "a00c6b26-686a-44c5-9909-36615eb7d0ce"
   },
   "outputs": [
    {
     "name": "stdout",
     "output_type": "stream",
     "text": [
      "[1, 2, 3, [4, 5, ['target']]]\n"
     ]
    }
   ],
   "source": [
    "print(nest)"
   ]
  },
  {
   "cell_type": "code",
   "execution_count": 55,
   "metadata": {
    "colab": {
     "base_uri": "https://localhost:8080/",
     "height": 67
    },
    "colab_type": "code",
    "id": "Q0IKGJJ9mnDW",
    "outputId": "61f81cf6-bf1c-489b-c2a1-c497a20b117f"
   },
   "outputs": [
    {
     "name": "stdout",
     "output_type": "stream",
     "text": [
      "Enter nameshreeya\n",
      "hello good mrng\n",
      "How are you\n"
     ]
    }
   ],
   "source": [
    "name=input(\"Enter name\")\n",
    "if name==\"shreeya\":\n",
    "  print(\"hello good mrng\")\n",
    "else:\n",
    "  print(\"i dono ua name\")\n",
    "print(\"How are you\")  "
   ]
  },
  {
   "cell_type": "code",
   "execution_count": 56,
   "metadata": {
    "colab": {
     "base_uri": "https://localhost:8080/",
     "height": 50
    },
    "colab_type": "code",
    "id": "yk-oWOGIyVjH",
    "outputId": "9a4bd48f-6e83-4ead-c25f-576726e09fa5"
   },
   "outputs": [
    {
     "name": "stdout",
     "output_type": "stream",
     "text": [
      "Enter ur fav teamCHL\n",
      "Its chesla\n"
     ]
    }
   ],
   "source": [
    "team=input(\"Enter ur fav team\")\n",
    "if team==\"MNU\":\n",
    "  print(\"Its manchester united\")\n",
    "elif team==\"CHL\":\n",
    "  print(\"Its chesla\")\n",
    "else:\n",
    "  print(\"Unknown team\")\n",
    " "
   ]
  },
  {
   "cell_type": "code",
   "execution_count": 57,
   "metadata": {
    "colab": {
     "base_uri": "https://localhost:8080/",
     "height": 185
    },
    "colab_type": "code",
    "id": "YruduUeT0AhR",
    "outputId": "290f1cab-de36-4876-e6dc-62dd1ebb6075"
   },
   "outputs": [
    {
     "name": "stdout",
     "output_type": "stream",
     "text": [
      "0\n",
      "1\n",
      "2\n",
      "3\n",
      "4\n",
      "5\n",
      "6\n",
      "7\n",
      "8\n",
      "9\n"
     ]
    }
   ],
   "source": [
    "for x in range(2):\n",
    "  print(x)"
   ]
  },
  {
   "cell_type": "code",
   "execution_count": 61,
   "metadata": {
    "colab": {
     "base_uri": "https://localhost:8080/",
     "height": 185
    },
    "colab_type": "code",
    "id": "mLf8wLiW0oKB",
    "outputId": "7360b16d-2261-45d9-fd32-3bc770ab659e"
   },
   "outputs": [
    {
     "name": "stdout",
     "output_type": "stream",
     "text": [
      "20\n",
      "18\n",
      "16\n",
      "14\n",
      "12\n",
      "10\n",
      "8\n",
      "6\n",
      "4\n",
      "2\n"
     ]
    }
   ],
   "source": [
    "for x in range(20,0,-1):\n",
    "  if x%2==0:\n",
    "     print(x)"
   ]
  },
  {
   "cell_type": "code",
   "execution_count": 67,
   "metadata": {
    "colab": {
     "base_uri": "https://localhost:8080/",
     "height": 84
    },
    "colab_type": "code",
    "id": "BaLH8dDu1qc7",
    "outputId": "0412698a-ac59-4b07-9a61-b2d1c56499d9"
   },
   "outputs": [
    {
     "name": "stdout",
     "output_type": "stream",
     "text": [
      "* \n",
      "* * \n",
      "* * * \n",
      "* * * * \n"
     ]
    }
   ],
   "source": [
    "for i in range(1,5):\n",
    "  for j in range(1,i+1):\n",
    "    print(\"*\",end=\" \")\n",
    "  print()"
   ]
  },
  {
   "cell_type": "code",
   "execution_count": 74,
   "metadata": {
    "colab": {
     "base_uri": "https://localhost:8080/",
     "height": 151
    },
    "colab_type": "code",
    "id": "ePN0dr553En-",
    "outputId": "f241253d-2f8e-4316-9dac-c7be090fc722"
   },
   "outputs": [
    {
     "name": "stdout",
     "output_type": "stream",
     "text": [
      "0\n",
      "1\n",
      "2\n",
      "3\n",
      "4\n",
      "5\n",
      "6\n",
      "Lets break after 7\n"
     ]
    }
   ],
   "source": [
    "for i in range(10):\n",
    "    if (i==7):\n",
    "    print(\"Lets break after 7\")\n",
    "    break\n",
    "    print(i)"
   ]
  },
  {
   "cell_type": "code",
   "execution_count": 73,
   "metadata": {
    "colab": {
     "base_uri": "https://localhost:8080/",
     "height": 34
    },
    "colab_type": "code",
    "id": "IrQVuBmu4bfI",
    "outputId": "822ec91c-5058-416b-80a9-484b626066d0"
   },
   "outputs": [
    {
     "name": "stdout",
     "output_type": "stream",
     "text": [
      "500\n"
     ]
    }
   ],
   "source": [
    "cart=[100,200,300,500,700]\n",
    "for x in cart:\n",
    "    if (x>=500):\n",
    "    print(x)\n",
    "    break"
   ]
  },
  {
   "cell_type": "code",
   "execution_count": 75,
   "metadata": {
    "colab": {
     "base_uri": "https://localhost:8080/",
     "height": 34
    },
    "colab_type": "code",
    "id": "6oqxuWSG5bFK",
    "outputId": "666ed812-9458-413f-fae8-c8fc3d4e51c1"
   },
   "outputs": [
    {
     "data": {
      "text/plain": [
       "'Nitrogen'"
      ]
     },
     "execution_count": 75,
     "metadata": {
      "tags": []
     },
     "output_type": "execute_result"
    }
   ],
   "source": [
    "dict1={\"H\":\"Hydrogen\",\"N\":\"Nitrogen\"}\n",
    "dict1[\"N\"]"
   ]
  },
  {
   "cell_type": "code",
   "execution_count": 9,
   "metadata": {
    "colab": {},
    "colab_type": "code",
    "id": "1jJb4NG_6650"
   },
   "outputs": [
    {
     "name": "stdout",
     "output_type": "stream",
     "text": [
      "      * \n",
      "    * * \n",
      "  * * * \n",
      "* * * * \n"
     ]
    }
   ],
   "source": [
    "for i in range(0,4):\n",
    "    for j in range(0,4):\n",
    "        if(i+j>=3):\n",
    "            print(\"*\",end=\" \")\n",
    "        else:\n",
    "            print(\" \",end=\" \")\n",
    "    print()"
   ]
  },
  {
   "cell_type": "code",
   "execution_count": 14,
   "metadata": {},
   "outputs": [
    {
     "name": "stdout",
     "output_type": "stream",
     "text": [
      "Enter name: virat\n",
      "v\n",
      "ii\n",
      "rrr\n",
      "aaaa\n",
      "ttttt\n"
     ]
    }
   ],
   "source": [
    "name=input('Enter name: ')\n",
    "for i in range(len(name)):\n",
    "    for j in range(0,i+1):\n",
    "        print(name[i],end='')\n",
    "    print()"
   ]
  },
  {
   "cell_type": "code",
   "execution_count": 16,
   "metadata": {},
   "outputs": [
    {
     "name": "stdout",
     "output_type": "stream",
     "text": [
      "Enter no.of students2\n",
      "Enter student name:shrre\n",
      "Enter % marks of students29\n",
      "Enter student name:anu\n",
      "Enter % marks of students18\n",
      " name of the student \t % of marks\n",
      "\t shrre \t\t 29\n",
      "\t anu \t\t 18\n"
     ]
    }
   ],
   "source": [
    "rec={}\n",
    "n=int(input(\"Enter no.of students\"))\n",
    "i=1\n",
    "while i<=n:\n",
    "    name=input(\"Enter student name:\")\n",
    "    marks=input(\"Enter % marks of students\")\n",
    "    rec[name]=marks\n",
    "    i+=1\n",
    "print(\" name of the student\",\"\\t\",\"% of marks\")\n",
    "for x in rec:\n",
    "    print(\"\\t\",x,\"\\t\\t\",rec[x])"
   ]
  },
  {
   "cell_type": "code",
   "execution_count": 17,
   "metadata": {},
   "outputs": [],
   "source": [
    "d={'mango':1,'apple':2}"
   ]
  },
  {
   "cell_type": "code",
   "execution_count": 18,
   "metadata": {},
   "outputs": [],
   "source": [
    "d.clear()"
   ]
  },
  {
   "cell_type": "code",
   "execution_count": 30,
   "metadata": {},
   "outputs": [
    {
     "data": {
      "text/plain": [
       "2"
      ]
     },
     "execution_count": 30,
     "metadata": {},
     "output_type": "execute_result"
    }
   ],
   "source": [
    "d={'mango':1,'apple':2}\n",
    "len(d)"
   ]
  },
  {
   "cell_type": "code",
   "execution_count": 27,
   "metadata": {},
   "outputs": [],
   "source": [
    "del d"
   ]
  },
  {
   "cell_type": "code",
   "execution_count": 28,
   "metadata": {},
   "outputs": [
    {
     "ename": "NameError",
     "evalue": "name 'd' is not defined",
     "output_type": "error",
     "traceback": [
      "\u001b[1;31m---------------------------------------------------------------------------\u001b[0m",
      "\u001b[1;31mNameError\u001b[0m                                 Traceback (most recent call last)",
      "\u001b[1;32m<ipython-input-28-85549cb1de5f>\u001b[0m in \u001b[0;36m<module>\u001b[1;34m\u001b[0m\n\u001b[1;32m----> 1\u001b[1;33m \u001b[0mprint\u001b[0m\u001b[1;33m(\u001b[0m\u001b[0md\u001b[0m\u001b[1;33m)\u001b[0m\u001b[1;33m\u001b[0m\u001b[1;33m\u001b[0m\u001b[0m\n\u001b[0m",
      "\u001b[1;31mNameError\u001b[0m: name 'd' is not defined"
     ]
    }
   ],
   "source": [
    "print(d)"
   ]
  },
  {
   "cell_type": "code",
   "execution_count": 33,
   "metadata": {},
   "outputs": [
    {
     "name": "stdout",
     "output_type": "stream",
     "text": [
      "Enter any wordshreeeyyaaa\n",
      "s occur 1 times\n",
      "h occur 1 times\n",
      "r occur 1 times\n",
      "e occur 3 times\n",
      "y occur 2 times\n",
      "a occur 3 times\n"
     ]
    }
   ],
   "source": [
    "word=input(\"Enter any word\")\n",
    "d={}\n",
    "for x in word:\n",
    "    d[x]=d.get(x,0)+1\n",
    "for k,v in d.items():\n",
    "    print(k,\"occur\",v,\"times\")"
   ]
  },
  {
   "cell_type": "code",
   "execution_count": 36,
   "metadata": {},
   "outputs": [
    {
     "name": "stdout",
     "output_type": "stream",
     "text": [
      "Enter any wordshreeya\n",
      "e occur 2 times\n",
      "a occur 1 times\n"
     ]
    }
   ],
   "source": [
    "word=input(\"Enter any word\")\n",
    "d={}\n",
    "for x in word:\n",
    "    if x=='a':\n",
    "        d[x]=d.get(x,0)+1\n",
    "    elif x=='e':\n",
    "        d[x]=d.get(x,0)+1\n",
    "    elif x=='i':\n",
    "        d[x]=d.get(x,0)+1\n",
    "    elif x=='o':\n",
    "        d[x]=d.get(x,0)+1\n",
    "    elif x=='u':\n",
    "        d[x]=d.get(x,0)+1\n",
    "for k,v in d.items():\n",
    "    print(k,\"occur\",v,\"times\") "
   ]
  },
  {
   "cell_type": "code",
   "execution_count": null,
   "metadata": {},
   "outputs": [],
   "source": []
  }
 ],
 "metadata": {
  "colab": {
   "collapsed_sections": [],
   "name": "day1.ipynb",
   "provenance": [],
   "version": "0.3.2"
  },
  "kernelspec": {
   "display_name": "Python 3",
   "language": "python",
   "name": "python3"
  },
  "language_info": {
   "codemirror_mode": {
    "name": "ipython",
    "version": 3
   },
   "file_extension": ".py",
   "mimetype": "text/x-python",
   "name": "python",
   "nbconvert_exporter": "python",
   "pygments_lexer": "ipython3",
   "version": "3.7.1"
  }
 },
 "nbformat": 4,
 "nbformat_minor": 1
}
